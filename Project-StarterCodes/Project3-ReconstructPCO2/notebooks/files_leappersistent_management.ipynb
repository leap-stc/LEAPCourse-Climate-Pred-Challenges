{
 "cells": [
  {
   "cell_type": "code",
   "execution_count": 1,
   "id": "e68ac4e3-3daf-4354-9090-da88c5dbb2ea",
   "metadata": {},
   "outputs": [],
   "source": [
    "# imports to look in \"leap-persistent\" google cloud storage\n",
    "import gcsfs\n",
    "fs = gcsfs.GCSFileSystem()"
   ]
  },
  {
   "cell_type": "markdown",
   "id": "7ab0bb08-5859-4193-b141-8b50fa48b9dd",
   "metadata": {},
   "source": [
    "# looking in a cloud storage directory"
   ]
  },
  {
   "cell_type": "markdown",
   "id": "f478a1c9-0502-4ff2-a67e-5f91b9114660",
   "metadata": {},
   "source": [
    "### To look at contents in a directory, use '.ls' and put your path in the parentheses. \n",
    "\n",
    "### The path will always start with \" gs://leap-persistent/ \"\n",
    "\n",
    "We insert your username and a path associated with the default runs"
   ]
  },
  {
   "cell_type": "code",
   "execution_count": 2,
   "id": "a4fdfba7-96c8-46ff-933f-e4b8d4b0f726",
   "metadata": {},
   "outputs": [
    {
     "name": "stdout",
     "output_type": "stream",
     "text": [
      "leap-persistent/dhruvc99/dhruvc99\n"
     ]
    }
   ],
   "source": [
    "your_username = 'dhruvc99'\n",
    "base_path = f'gs://leap-persistent/{your_username}'\n",
    "\n",
    "# List all files and directories recursively\n",
    "all_files = fs.ls(base_path, detail=False, refresh=True)\n",
    "\n",
    "for f in all_files:\n",
    "    print(f)"
   ]
  },
  {
   "cell_type": "code",
   "execution_count": 3,
   "id": "be97741a-ea6d-4cea-a59b-123e560b96a2",
   "metadata": {},
   "outputs": [
    {
     "name": "stdout",
     "output_type": "stream",
     "text": [
      "dhruvc99\n",
      "  pco2_residual\n",
      "    baseline\n",
      "      post02_xgb\n",
      "        metrics\n",
      "          xgb_test_performance_200401-202312.csv\n",
      "          xgb_unseen_performance_200401-202312.csv\n",
      "        reconstructions\n",
      "          ACCESS-ESM1-5\n",
      "            member_r10i1p1f1\n",
      "              recon_pCO2_ACCESS-ESM1-5_member_r10i1p1f1_mon_1x1_200401_202312.zarr\n",
      "              recon_pCO2residual_ACCESS-ESM1-5_member_r10i1p1f1_mon_1x1_200401_202312.zarr\n",
      "            member_r2i1p1f1\n",
      "              recon_pCO2_ACCESS-ESM1-5_member_r2i1p1f1_mon_1x1_200401_202312.zarr\n",
      "              recon_pCO2residual_ACCESS-ESM1-5_member_r2i1p1f1_mon_1x1_200401_202312.zarr\n",
      "            member_r5i1p1f1\n",
      "              recon_pCO2_ACCESS-ESM1-5_member_r5i1p1f1_mon_1x1_200401_202312.zarr\n",
      "              recon_pCO2residual_ACCESS-ESM1-5_member_r5i1p1f1_mon_1x1_200401_202312.zarr\n",
      "          CanESM5\n",
      "            member_r1i1p1f1\n",
      "              recon_pCO2_CanESM5_member_r1i1p1f1_mon_1x1_200401_202312.zarr\n",
      "              recon_pCO2residual_CanESM5_member_r1i1p1f1_mon_1x1_200401_202312.zarr\n",
      "            member_r1i1p2f1\n",
      "              recon_pCO2_CanESM5_member_r1i1p2f1_mon_1x1_200401_202312.zarr\n",
      "              recon_pCO2residual_CanESM5_member_r1i1p2f1_mon_1x1_200401_202312.zarr\n",
      "            member_r2i1p1f1\n",
      "              recon_pCO2_CanESM5_member_r2i1p1f1_mon_1x1_200401_202312.zarr\n",
      "              recon_pCO2residual_CanESM5_member_r2i1p1f1_mon_1x1_200401_202312.zarr\n",
      "          MPI-ESM1-2-LR\n",
      "            member_r11i1p1f1\n",
      "              recon_pCO2_MPI-ESM1-2-LR_member_r11i1p1f1_mon_1x1_200401_202312.zarr\n",
      "              recon_pCO2residual_MPI-ESM1-2-LR_member_r11i1p1f1_mon_1x1_200401_202312.zarr\n",
      "            member_r12i1p1f1\n",
      "              recon_pCO2_MPI-ESM1-2-LR_member_r12i1p1f1_mon_1x1_200401_202312.zarr\n",
      "              recon_pCO2residual_MPI-ESM1-2-LR_member_r12i1p1f1_mon_1x1_200401_202312.zarr\n",
      "            member_r15i1p1f1\n",
      "              recon_pCO2_MPI-ESM1-2-LR_member_r15i1p1f1_mon_1x1_200401_202312.zarr\n",
      "              recon_pCO2residual_MPI-ESM1-2-LR_member_r15i1p1f1_mon_1x1_200401_202312.zarr\n",
      "    custom_loss\n",
      "      post02_xgb\n",
      "        metrics\n",
      "          xgb_weighted_test_performance_200401-202312.csv\n",
      "          xgb_weighted_unseen_performance_200401-202312.csv\n",
      "        reconstructions\n",
      "          ACCESS-ESM1-5\n",
      "            member_r10i1p1f1\n",
      "              recon_pCO2_ACCESS-ESM1-5_member_r10i1p1f1_mon_1x1_200401_202312.zarr\n",
      "              recon_pCO2residual_ACCESS-ESM1-5_member_r10i1p1f1_mon_1x1_200401_202312.zarr\n",
      "            member_r2i1p1f1\n",
      "              recon_pCO2_ACCESS-ESM1-5_member_r2i1p1f1_mon_1x1_200401_202312.zarr\n",
      "              recon_pCO2residual_ACCESS-ESM1-5_member_r2i1p1f1_mon_1x1_200401_202312.zarr\n",
      "            member_r5i1p1f1\n",
      "              recon_pCO2_ACCESS-ESM1-5_member_r5i1p1f1_mon_1x1_200401_202312.zarr\n",
      "              recon_pCO2residual_ACCESS-ESM1-5_member_r5i1p1f1_mon_1x1_200401_202312.zarr\n",
      "          CanESM5\n",
      "            member_r1i1p1f1\n",
      "              recon_pCO2_CanESM5_member_r1i1p1f1_mon_1x1_200401_202312.zarr\n",
      "              recon_pCO2residual_CanESM5_member_r1i1p1f1_mon_1x1_200401_202312.zarr\n",
      "            member_r1i1p2f1\n",
      "              recon_pCO2_CanESM5_member_r1i1p2f1_mon_1x1_200401_202312.zarr\n",
      "              recon_pCO2residual_CanESM5_member_r1i1p2f1_mon_1x1_200401_202312.zarr\n",
      "            member_r2i1p1f1\n",
      "              recon_pCO2_CanESM5_member_r2i1p1f1_mon_1x1_200401_202312.zarr\n",
      "              recon_pCO2residual_CanESM5_member_r2i1p1f1_mon_1x1_200401_202312.zarr\n",
      "          MPI-ESM1-2-LR\n",
      "            member_r11i1p1f1\n",
      "              recon_pCO2_MPI-ESM1-2-LR_member_r11i1p1f1_mon_1x1_200401_202312.zarr\n",
      "              recon_pCO2residual_MPI-ESM1-2-LR_member_r11i1p1f1_mon_1x1_200401_202312.zarr\n",
      "            member_r12i1p1f1\n",
      "              recon_pCO2_MPI-ESM1-2-LR_member_r12i1p1f1_mon_1x1_200401_202312.zarr\n",
      "              recon_pCO2residual_MPI-ESM1-2-LR_member_r12i1p1f1_mon_1x1_200401_202312.zarr\n",
      "            member_r15i1p1f1\n",
      "              recon_pCO2_MPI-ESM1-2-LR_member_r15i1p1f1_mon_1x1_200401_202312.zarr\n",
      "              recon_pCO2residual_MPI-ESM1-2-LR_member_r15i1p1f1_mon_1x1_200401_202312.zarr\n",
      "    latitude_split\n",
      "      post02_xgb\n",
      "        metrics\n",
      "          xgb_test_performance_200401-202312.csv\n",
      "          xgb_unseen_performance_200401-202312.csv\n",
      "        reconstructions\n",
      "          ACCESS-ESM1-5\n",
      "            member_r10i1p1f1\n",
      "              recon_pCO2_ACCESS-ESM1-5_member_r10i1p1f1_mon_1x1_200401_202312.zarr\n",
      "              recon_pCO2residual_ACCESS-ESM1-5_member_r10i1p1f1_mon_1x1_200401_202312.zarr\n",
      "            member_r2i1p1f1\n",
      "              recon_pCO2_ACCESS-ESM1-5_member_r2i1p1f1_mon_1x1_200401_202312.zarr\n",
      "              recon_pCO2residual_ACCESS-ESM1-5_member_r2i1p1f1_mon_1x1_200401_202312.zarr\n",
      "            member_r5i1p1f1\n",
      "              recon_pCO2_ACCESS-ESM1-5_member_r5i1p1f1_mon_1x1_200401_202312.zarr\n",
      "              recon_pCO2residual_ACCESS-ESM1-5_member_r5i1p1f1_mon_1x1_200401_202312.zarr\n",
      "          CanESM5\n",
      "            member_r1i1p1f1\n",
      "              recon_pCO2_CanESM5_member_r1i1p1f1_mon_1x1_200401_202312.zarr\n",
      "              recon_pCO2residual_CanESM5_member_r1i1p1f1_mon_1x1_200401_202312.zarr\n",
      "            member_r1i1p2f1\n",
      "              recon_pCO2_CanESM5_member_r1i1p2f1_mon_1x1_200401_202312.zarr\n",
      "              recon_pCO2residual_CanESM5_member_r1i1p2f1_mon_1x1_200401_202312.zarr\n",
      "            member_r2i1p1f1\n",
      "              recon_pCO2_CanESM5_member_r2i1p1f1_mon_1x1_200401_202312.zarr\n",
      "              recon_pCO2residual_CanESM5_member_r2i1p1f1_mon_1x1_200401_202312.zarr\n",
      "          MPI-ESM1-2-LR\n",
      "            member_r11i1p1f1\n",
      "              recon_pCO2_MPI-ESM1-2-LR_member_r11i1p1f1_mon_1x1_200401_202312.zarr\n",
      "              recon_pCO2residual_MPI-ESM1-2-LR_member_r11i1p1f1_mon_1x1_200401_202312.zarr\n",
      "            member_r12i1p1f1\n",
      "              recon_pCO2_MPI-ESM1-2-LR_member_r12i1p1f1_mon_1x1_200401_202312.zarr\n",
      "              recon_pCO2residual_MPI-ESM1-2-LR_member_r12i1p1f1_mon_1x1_200401_202312.zarr\n",
      "            member_r15i1p1f1\n",
      "              recon_pCO2_MPI-ESM1-2-LR_member_r15i1p1f1_mon_1x1_200401_202312.zarr\n",
      "              recon_pCO2residual_MPI-ESM1-2-LR_member_r15i1p1f1_mon_1x1_200401_202312.zarr\n",
      "    ocean_split\n",
      "      post02_xgb\n",
      "        metrics\n",
      "          xgb_test_performance_200401-202312.csv\n",
      "          xgb_unseen_performance_200401-202312.csv\n",
      "        reconstructions\n",
      "          ACCESS-ESM1-5\n",
      "            member_r10i1p1f1\n",
      "              recon_pCO2_ACCESS-ESM1-5_member_r10i1p1f1_mon_1x1_200401_202312.zarr\n",
      "              recon_pCO2residual_ACCESS-ESM1-5_member_r10i1p1f1_mon_1x1_200401_202312.zarr\n",
      "            member_r2i1p1f1\n",
      "              recon_pCO2_ACCESS-ESM1-5_member_r2i1p1f1_mon_1x1_200401_202312.zarr\n",
      "              recon_pCO2residual_ACCESS-ESM1-5_member_r2i1p1f1_mon_1x1_200401_202312.zarr\n",
      "            member_r5i1p1f1\n",
      "              recon_pCO2_ACCESS-ESM1-5_member_r5i1p1f1_mon_1x1_200401_202312.zarr\n",
      "              recon_pCO2residual_ACCESS-ESM1-5_member_r5i1p1f1_mon_1x1_200401_202312.zarr\n",
      "          CanESM5\n",
      "            member_r1i1p1f1\n",
      "              recon_pCO2_CanESM5_member_r1i1p1f1_mon_1x1_200401_202312.zarr\n",
      "              recon_pCO2residual_CanESM5_member_r1i1p1f1_mon_1x1_200401_202312.zarr\n",
      "            member_r1i1p2f1\n",
      "              recon_pCO2_CanESM5_member_r1i1p2f1_mon_1x1_200401_202312.zarr\n",
      "              recon_pCO2residual_CanESM5_member_r1i1p2f1_mon_1x1_200401_202312.zarr\n",
      "            member_r2i1p1f1\n",
      "              recon_pCO2_CanESM5_member_r2i1p1f1_mon_1x1_200401_202312.zarr\n",
      "              recon_pCO2residual_CanESM5_member_r2i1p1f1_mon_1x1_200401_202312.zarr\n",
      "          MPI-ESM1-2-LR\n",
      "            member_r11i1p1f1\n",
      "              recon_pCO2_MPI-ESM1-2-LR_member_r11i1p1f1_mon_1x1_200401_202312.zarr\n",
      "              recon_pCO2residual_MPI-ESM1-2-LR_member_r11i1p1f1_mon_1x1_200401_202312.zarr\n",
      "            member_r12i1p1f1\n",
      "              recon_pCO2_MPI-ESM1-2-LR_member_r12i1p1f1_mon_1x1_200401_202312.zarr\n",
      "              recon_pCO2residual_MPI-ESM1-2-LR_member_r12i1p1f1_mon_1x1_200401_202312.zarr\n",
      "            member_r15i1p1f1\n",
      "              recon_pCO2_MPI-ESM1-2-LR_member_r15i1p1f1_mon_1x1_200401_202312.zarr\n",
      "              recon_pCO2residual_MPI-ESM1-2-LR_member_r15i1p1f1_mon_1x1_200401_202312.zarr\n",
      "    transfer_learning\n",
      "      post02_xgb\n",
      "        metrics\n",
      "          xgb_test_performance_200401-202312.csv\n",
      "          xgb_unseen_performance_200401-202312.csv\n",
      "        reconstructions\n",
      "          ACCESS-ESM1-5\n",
      "            member_r10i1p1f1\n",
      "              recon_pCO2_ACCESS-ESM1-5_member_r10i1p1f1_mon_1x1_200401_202312.zarr\n",
      "              recon_pCO2residual_ACCESS-ESM1-5_member_r10i1p1f1_mon_1x1_200401_202312.zarr\n",
      "            member_r2i1p1f1\n",
      "              recon_pCO2residual_ACCESS-ESM1-5_member_r2i1p1f1_mon_1x1_200401_202312.zarr\n",
      "            member_r5i1p1f1\n",
      "              recon_pCO2residual_ACCESS-ESM1-5_member_r5i1p1f1_mon_1x1_200401_202312.zarr\n",
      "          CanESM5\n",
      "            member_r1i1p1f1\n",
      "              recon_pCO2residual_CanESM5_member_r1i1p1f1_mon_1x1_200401_202312.zarr\n",
      "            member_r1i1p2f1\n",
      "              recon_pCO2residual_CanESM5_member_r1i1p2f1_mon_1x1_200401_202312.zarr\n",
      "            member_r2i1p1f1\n",
      "              recon_pCO2residual_CanESM5_member_r2i1p1f1_mon_1x1_200401_202312.zarr\n",
      "          MPI-ESM1-2-LR\n",
      "            member_r11i1p1f1\n",
      "              recon_pCO2residual_MPI-ESM1-2-LR_member_r11i1p1f1_mon_1x1_200401_202312.zarr\n",
      "            member_r12i1p1f1\n",
      "              recon_pCO2residual_MPI-ESM1-2-LR_member_r12i1p1f1_mon_1x1_200401_202312.zarr\n",
      "            member_r15i1p1f1\n",
      "              recon_pCO2residual_MPI-ESM1-2-LR_member_r15i1p1f1_mon_1x1_200401_202312.zarr\n",
      "    weighted_samples\n",
      "      post02_xgb\n",
      "        metrics\n",
      "          xgb_test_performance_200401-202312.csv\n",
      "          xgb_unseen_performance_200401-202312.csv\n",
      "        reconstructions\n",
      "          ACCESS-ESM1-5\n",
      "            member_r10i1p1f1\n",
      "              recon_pCO2_ACCESS-ESM1-5_member_r10i1p1f1_mon_1x1_200401_202312.zarr\n",
      "              recon_pCO2residual_ACCESS-ESM1-5_member_r10i1p1f1_mon_1x1_200401_202312.zarr\n",
      "            member_r2i1p1f1\n",
      "              recon_pCO2_ACCESS-ESM1-5_member_r2i1p1f1_mon_1x1_200401_202312.zarr\n",
      "              recon_pCO2residual_ACCESS-ESM1-5_member_r2i1p1f1_mon_1x1_200401_202312.zarr\n",
      "            member_r5i1p1f1\n",
      "              recon_pCO2_ACCESS-ESM1-5_member_r5i1p1f1_mon_1x1_200401_202312.zarr\n",
      "              recon_pCO2residual_ACCESS-ESM1-5_member_r5i1p1f1_mon_1x1_200401_202312.zarr\n",
      "          CanESM5\n",
      "            member_r1i1p1f1\n",
      "              recon_pCO2_CanESM5_member_r1i1p1f1_mon_1x1_200401_202312.zarr\n",
      "              recon_pCO2residual_CanESM5_member_r1i1p1f1_mon_1x1_200401_202312.zarr\n",
      "            member_r1i1p2f1\n",
      "              recon_pCO2_CanESM5_member_r1i1p2f1_mon_1x1_200401_202312.zarr\n",
      "              recon_pCO2residual_CanESM5_member_r1i1p2f1_mon_1x1_200401_202312.zarr\n",
      "            member_r2i1p1f1\n",
      "              recon_pCO2_CanESM5_member_r2i1p1f1_mon_1x1_200401_202312.zarr\n",
      "              recon_pCO2residual_CanESM5_member_r2i1p1f1_mon_1x1_200401_202312.zarr\n",
      "          MPI-ESM1-2-LR\n",
      "            member_r11i1p1f1\n",
      "              recon_pCO2_MPI-ESM1-2-LR_member_r11i1p1f1_mon_1x1_200401_202312.zarr\n",
      "              recon_pCO2residual_MPI-ESM1-2-LR_member_r11i1p1f1_mon_1x1_200401_202312.zarr\n",
      "            member_r12i1p1f1\n",
      "              recon_pCO2_MPI-ESM1-2-LR_member_r12i1p1f1_mon_1x1_200401_202312.zarr\n",
      "              recon_pCO2residual_MPI-ESM1-2-LR_member_r12i1p1f1_mon_1x1_200401_202312.zarr\n",
      "            member_r15i1p1f1\n",
      "              recon_pCO2_MPI-ESM1-2-LR_member_r15i1p1f1_mon_1x1_200401_202312.zarr\n",
      "              recon_pCO2residual_MPI-ESM1-2-LR_member_r15i1p1f1_mon_1x1_200401_202312.zarr\n"
     ]
    }
   ],
   "source": [
    "def print_tree(fs, path, indent=0):\n",
    "    items = fs.ls(path)\n",
    "    for item in items:\n",
    "        name = item.split('/')[-1]\n",
    "        print(\"  \" * indent + name)\n",
    "        # Skip looking inside .zarr directories\n",
    "        if fs.isdir(item) and not item.endswith('.zarr'):\n",
    "            print_tree(fs, item, indent + 1)\n",
    "\n",
    "print_tree(fs, f'gs://leap-persistent/{your_username}')"
   ]
  },
  {
   "cell_type": "markdown",
   "id": "567d75bf-2bb0-47cd-9ab0-0a4ffc5b2c54",
   "metadata": {},
   "source": [
    "# getting file sizes"
   ]
  },
  {
   "cell_type": "markdown",
   "id": "74ec2c11-8608-42f7-8116-bd122a6f9aef",
   "metadata": {},
   "source": [
    "### if we want to get info for a file on the cloud storage:"
   ]
  },
  {
   "cell_type": "code",
   "execution_count": 4,
   "id": "6cdfee54-5ae9-4dbd-a198-c4b3a3e67674",
   "metadata": {},
   "outputs": [
    {
     "name": "stdout",
     "output_type": "stream",
     "text": [
      "Made public: baseline\n",
      "Made public: custom_loss\n",
      "Failed to make public: dhruvc99/dhruvc99/pco2_residual/custom_loss/post02_xgb/reconstructions/CanESM5/member_r1i1p1f1/recon_pCO2residual_CanESM5_member_r1i1p1f1_mon_1x1_200401_202312.zarr/net_mask/6.2.2\n",
      "503 PATCH https://storage.googleapis.com/storage/v1/b/leap-persistent/o/dhruvc99%2Fdhruvc99%2Fpco2_residual%2Fcustom_loss%2Fpost02_xgb%2Freconstructions%2FCanESM5%2Fmember_r1i1p1f1%2Frecon_pCO2residual_CanESM5_member_r1i1p1f1_mon_1x1_200401_202312.zarr%2Fnet_mask%2F6.2.2?projection=full&prettyPrint=false: We encountered an internal error. Please try again.\n",
      "Made public: latitude_split\n",
      "Made public: ocean_split\n",
      "Failed to make public: dhruvc99/dhruvc99/pco2_residual/ocean_split/post02_xgb/reconstructions/CanESM5/member_r1i1p1f1/recon_pCO2residual_CanESM5_member_r1i1p1f1_mon_1x1_200401_202312.zarr/net_mask/4.2.3\n",
      "503 PATCH https://storage.googleapis.com/storage/v1/b/leap-persistent/o/dhruvc99%2Fdhruvc99%2Fpco2_residual%2Focean_split%2Fpost02_xgb%2Freconstructions%2FCanESM5%2Fmember_r1i1p1f1%2Frecon_pCO2residual_CanESM5_member_r1i1p1f1_mon_1x1_200401_202312.zarr%2Fnet_mask%2F4.2.3?projection=full&prettyPrint=false: We encountered an internal error. Please try again.\n",
      "Failed to make public: dhruvc99/dhruvc99/pco2_residual/ocean_split/post02_xgb/reconstructions/MPI-ESM1-2-LR/member_r15i1p1f1/recon_pCO2residual_MPI-ESM1-2-LR_member_r15i1p1f1_mon_1x1_200401_202312.zarr/pCO2_recon_full/1.0.0\n",
      "503 PATCH https://storage.googleapis.com/storage/v1/b/leap-persistent/o/dhruvc99%2Fdhruvc99%2Fpco2_residual%2Focean_split%2Fpost02_xgb%2Freconstructions%2FMPI-ESM1-2-LR%2Fmember_r15i1p1f1%2Frecon_pCO2residual_MPI-ESM1-2-LR_member_r15i1p1f1_mon_1x1_200401_202312.zarr%2FpCO2_recon_full%2F1.0.0?projection=full&prettyPrint=false: We encountered an internal error. Please try again.\n",
      "Made public: transfer_learning\n",
      "Made public: weighted_samples\n"
     ]
    }
   ],
   "source": [
    "owner_username = 'dhruvc99'\n",
    "\n",
    "runthiscell = 1\n",
    "\n",
    "from google.cloud import storage\n",
    "\n",
    "if runthiscell != -1:\n",
    "    client = storage.Client()\n",
    "    bucket = client.bucket(\"leap-persistent\")\n",
    "    \n",
    "    prefix = f\"{owner_username}/{owner_username}/pco2_residual/\"\n",
    "    blobs = bucket.list_blobs(prefix=prefix)\n",
    "    \n",
    "    seen_dirs = set()  # Track top-level directories (immediate subdirectories of `reconstructions`)\n",
    "\n",
    "    for blob in blobs:\n",
    "        # Extract the relative path after `reconstructions/`\n",
    "        relative_path = blob.name[len(prefix):]\n",
    "        top_level_dir = relative_path.split(\"/\")[0]  # Get first component\n",
    "\n",
    "        try:\n",
    "            # Make the file public\n",
    "            blob.make_public()\n",
    "            \n",
    "            # Only print if it's a new top-level directory\n",
    "            if top_level_dir not in seen_dirs:\n",
    "                seen_dirs.add(top_level_dir)\n",
    "                print(f\"Made public: {top_level_dir}\")\n",
    "        except Exception as e:\n",
    "            print(f\"Failed to make public: {blob.name}\")\n",
    "            print(e)"
   ]
  },
  {
   "cell_type": "code",
   "execution_count": 9,
   "id": "20eaa390-c583-479e-b2b5-a8422558a4ba",
   "metadata": {},
   "outputs": [],
   "source": [
    "failed_cases = [\n",
    "    'dhruvc99/dhruvc99/pco2_residual/custom_loss/post02_xgb/reconstructions/CanESM5/member_r1i1p1f1/recon_pCO2residual_CanESM5_member_r1i1p1f1_mon_1x1_200401_202312.zarr/net_mask/6.2.2',\n",
    "    'dhruvc99/dhruvc99/pco2_residual/ocean_split/post02_xgb/reconstructions/CanESM5/member_r1i1p1f1/recon_pCO2residual_CanESM5_member_r1i1p1f1_mon_1x1_200401_202312.zarr/net_mask/4.2.3',\n",
    "    'dhruvc99/dhruvc99/pco2_residual/ocean_split/post02_xgb/reconstructions/MPI-ESM1-2-LR/member_r15i1p1f1/recon_pCO2residual_MPI-ESM1-2-LR_member_r15i1p1f1_mon_1x1_200401_202312.zarr/pCO2_recon_full/1.0.0'\n",
    "               ]\n",
    "\n",
    "for f in failed_cases:\n",
    "    blob = bucket.blob(file_path)\n",
    "    try:\n",
    "        # Make the file public\n",
    "        blob.make_public()\n",
    "        \n",
    "        # Only print if it's a new top-level directory\n",
    "        if top_level_dir not in seen_dirs:\n",
    "            seen_dirs.add(top_level_dir)\n",
    "            print(f\"Made public: {top_level_dir}\")\n",
    "    except Exception as e:\n",
    "        print(f\"Failed to make public: {blob.name}\")\n",
    "        print(e)"
   ]
  },
  {
   "cell_type": "code",
   "execution_count": 10,
   "id": "2d3b38a4-f3a8-462b-9858-6f9aa6868c95",
   "metadata": {},
   "outputs": [
    {
     "name": "stdout",
     "output_type": "stream",
     "text": [
      "Total size: 15.44 GB (15812.88 MB)\n"
     ]
    }
   ],
   "source": [
    "def get_directory_size(fs, path):\n",
    "    total_size = 0\n",
    "    files = fs.find(path)  # Recursively find all files\n",
    "    for file in files:\n",
    "        if not fs.isdir(file):  # Only count files, not directories\n",
    "            total_size += fs.size(file)\n",
    "    return total_size\n",
    "\n",
    "# Usage\n",
    "size_bytes = get_directory_size(fs, f'gs://leap-persistent/{your_username}')\n",
    "size_mb = size_bytes / (1024 * 1024)\n",
    "size_gb = size_bytes / (1024 * 1024 * 1024)\n",
    "print(f\"Total size: {size_gb:.2f} GB ({size_mb:.2f} MB)\")"
   ]
  },
  {
   "cell_type": "code",
   "execution_count": 4,
   "id": "4917a0e1-b4af-482e-a18d-22032a492d09",
   "metadata": {},
   "outputs": [],
   "source": [
    "runthiscell = -1"
   ]
  },
  {
   "cell_type": "code",
   "execution_count": 5,
   "id": "b8eb5256-eb02-4fd6-9088-3f4d5279603c",
   "metadata": {},
   "outputs": [
    {
     "name": "stdout",
     "output_type": "stream",
     "text": [
      "\n",
      "Deleting contents of: dhruvc99/dhruvc99/pco2_residual/weighted-samples-diff-params/\n",
      "Deleted 7418 files from weighted-samples-diff-params\n",
      "\n",
      "Deleting contents of: dhruvc99/dhruvc99/pco2_residual/nmse/\n",
      "Deleted 7420 files from nmse\n"
     ]
    }
   ],
   "source": [
    "from google.cloud import storage\n",
    "\n",
    "if runthiscell != -1:\n",
    "    client = storage.Client()\n",
    "    bucket = client.bucket(\"leap-persistent\")\n",
    "    \n",
    "    # List of folders to delete\n",
    "    folders_to_delete = [\n",
    "        \"weighted-samples-diff-params\",\n",
    "        \"nmse\",\n",
    "    ]\n",
    "    \n",
    "    for folder in folders_to_delete:\n",
    "        prefix = f\"{your_username}/{your_username}/pco2_residual/{folder}/\"\n",
    "        print(f\"\\nDeleting contents of: {prefix}\")\n",
    "        \n",
    "        blobs = bucket.list_blobs(prefix=prefix)\n",
    "        \n",
    "        # Delete all blobs in the folder\n",
    "        blob_count = 0\n",
    "        for blob in blobs:\n",
    "            try:\n",
    "                blob.delete()\n",
    "                blob_count += 1\n",
    "            except Exception as e:\n",
    "                print(f\"Failed to delete: {blob.name}\")\n",
    "                print(e)\n",
    "        \n",
    "        print(f\"Deleted {blob_count} files from {folder}\")\n",
    "else:\n",
    "    print(\"Set runthiscell = 1 to execute the deletion\")"
   ]
  },
  {
   "cell_type": "code",
   "execution_count": 4,
   "id": "c8658b46-dc59-4da4-9430-6b564d41e908",
   "metadata": {},
   "outputs": [
    {
     "data": {
      "text/plain": [
       "{'kind': 'storage#object',\n",
       " 'id': 'leap-persistent/galenmckinley/test_folder/test.csv/1743448790690071',\n",
       " 'selfLink': 'https://www.googleapis.com/storage/v1/b/leap-persistent/o/galenmckinley%2Ftest_folder%2Ftest.csv',\n",
       " 'mediaLink': 'https://storage.googleapis.com/download/storage/v1/b/leap-persistent/o/galenmckinley%2Ftest_folder%2Ftest.csv?generation=1743448790690071&alt=media',\n",
       " 'name': 'leap-persistent/galenmckinley/test_folder/test.csv',\n",
       " 'bucket': 'leap-persistent',\n",
       " 'generation': '1743448790690071',\n",
       " 'metageneration': '1',\n",
       " 'contentType': 'application/octet-stream',\n",
       " 'storageClass': 'STANDARD',\n",
       " 'size': 17,\n",
       " 'md5Hash': 'owQ8WisrmPuOUx3Yq+PjjA==',\n",
       " 'crc32c': 'JUM0Fg==',\n",
       " 'etag': 'CJfS6e6EtYwDEAE=',\n",
       " 'timeCreated': '2025-03-31T19:19:50.693Z',\n",
       " 'updated': '2025-03-31T19:19:50.693Z',\n",
       " 'timeStorageClassUpdated': '2025-03-31T19:19:50.693Z',\n",
       " 'timeFinalized': '2025-03-31T19:19:50.693Z',\n",
       " 'type': 'file',\n",
       " 'mtime': datetime.datetime(2025, 3, 31, 19, 19, 50, 693000, tzinfo=datetime.timezone.utc),\n",
       " 'ctime': datetime.datetime(2025, 3, 31, 19, 19, 50, 693000, tzinfo=datetime.timezone.utc)}"
      ]
     },
     "execution_count": 4,
     "metadata": {},
     "output_type": "execute_result"
    }
   ],
   "source": [
    "# a random csv!\n",
    "fs.info('gs://leap-persistent/galenmckinley/test_folder/test.csv')"
   ]
  },
  {
   "cell_type": "markdown",
   "id": "6bc5f13b-971a-42b0-ad7d-c91245194c6c",
   "metadata": {},
   "source": [
    "### if we want specifically the size, we use 'fs.du()' which stands for \"disk usage\":"
   ]
  },
  {
   "cell_type": "code",
   "execution_count": 5,
   "id": "ce0af044-8377-4859-9911-abb03bed45f5",
   "metadata": {},
   "outputs": [
    {
     "data": {
      "text/plain": [
       "17"
      ]
     },
     "execution_count": 5,
     "metadata": {},
     "output_type": "execute_result"
    }
   ],
   "source": [
    "fs.du('gs://leap-persistent/galenmckinley/test_folder/test.csv')"
   ]
  },
  {
   "cell_type": "markdown",
   "id": "01b891da-0bd3-4d38-a2a0-259abf65fea7",
   "metadata": {},
   "source": [
    "### just \"17\" is unclear though -> this function will make this clearer with units!"
   ]
  },
  {
   "cell_type": "code",
   "execution_count": 6,
   "id": "0273dd56-311d-4f3e-b616-474aafbe6df6",
   "metadata": {},
   "outputs": [],
   "source": [
    "def convert_to_human_readable(size):\n",
    "    \"\"\"\n",
    "    Converts disk usage size to 'human readable' format!\n",
    "    \"\"\"\n",
    "    \n",
    "    for unit in ['B', 'KB', 'MB', 'GB', 'TB']:\n",
    "        if size < 1024:\n",
    "            return f\"{size:.2f} {unit}\"\n",
    "        size /= 1024"
   ]
  },
  {
   "cell_type": "code",
   "execution_count": 7,
   "id": "3b1df154-4f9c-4956-804c-40bcebaa5278",
   "metadata": {},
   "outputs": [
    {
     "data": {
      "text/plain": [
       "'17.00 B'"
      ]
     },
     "execution_count": 7,
     "metadata": {},
     "output_type": "execute_result"
    }
   ],
   "source": [
    "convert_to_human_readable(17)"
   ]
  },
  {
   "cell_type": "markdown",
   "id": "d7354a87-9330-4fda-ae78-e33992ac1f23",
   "metadata": {},
   "source": [
    "### that csv is 17 bytes!"
   ]
  },
  {
   "cell_type": "markdown",
   "id": "b0161216-a9c0-4d33-b818-563a2f2f6411",
   "metadata": {},
   "source": [
    "### here's another example, but with a .zarr file:"
   ]
  },
  {
   "cell_type": "code",
   "execution_count": 8,
   "id": "3ba8bdf8-5929-4949-9671-c55f36ea8669",
   "metadata": {},
   "outputs": [
    {
     "data": {
      "text/plain": [
       "166750349"
      ]
     },
     "execution_count": 8,
     "metadata": {},
     "output_type": "execute_result"
    }
   ],
   "source": [
    "fs.du('gs://leap-persistent/galenmckinley/pco2_residual/nmse/post02_xgb/reconstructions/CanESM5/member_r1i1p1f1/recon_pCO2residual_CanESM5_member_r1i1p1f1_mon_1x1_200401_202312.zarr')"
   ]
  },
  {
   "cell_type": "code",
   "execution_count": 9,
   "id": "124f4bdb-6674-4d27-aa78-01e25fd8c1d8",
   "metadata": {},
   "outputs": [
    {
     "data": {
      "text/plain": [
       "'20.85 MB'"
      ]
     },
     "execution_count": 9,
     "metadata": {},
     "output_type": "execute_result"
    }
   ],
   "source": [
    "convert_to_human_readable(21858071)"
   ]
  },
  {
   "cell_type": "markdown",
   "id": "1de7002e-f79d-4e97-bae5-9e5d0bedab1b",
   "metadata": {},
   "source": [
    "that .zarr file is 20.85 megabytes"
   ]
  },
  {
   "cell_type": "markdown",
   "id": "4f274bda-2ea7-41b2-98fe-c6b30df59eed",
   "metadata": {},
   "source": [
    "# Deleting a file\n",
    "To remove a file, you will use 'fs.rm(path)'"
   ]
  },
  {
   "cell_type": "markdown",
   "id": "973216bf-83cf-4def-90ac-feb835ed9eb5",
   "metadata": {},
   "source": [
    "# ***Be very careful*** \n",
    "\n",
    "Make sure you are sure that you are removing what you want and that you are not deleting in someone else's directory."
   ]
  },
  {
   "cell_type": "code",
   "execution_count": 11,
   "id": "c03b54ab-c40a-453c-bfb0-8b7cb23d761a",
   "metadata": {},
   "outputs": [],
   "source": [
    "# do not actually run this code, please!\n",
    "\n",
    "# fs.rm('gs://leap-persistent/galenmckinley/test_folder/test.csv')"
   ]
  },
  {
   "cell_type": "markdown",
   "id": "ec98739c-cad5-45fa-af18-5e24fbc1063f",
   "metadata": {},
   "source": [
    "### Things are more complicated with .zarr files because .zarr files are considered \"directories\" by the file system\n",
    "### If deleting a .zarr file, you will just need to add the argument 'recursive=True' inside the parentheses"
   ]
  },
  {
   "cell_type": "code",
   "execution_count": 12,
   "id": "0d60ab76-74b9-4c57-ac12-a2871805bc86",
   "metadata": {},
   "outputs": [],
   "source": [
    "# fs.rm('gs://leap-persistent/....../filename.zarr', recursive=True)"
   ]
  },
  {
   "cell_type": "code",
   "execution_count": null,
   "id": "9a46d3cd-d093-4c4d-ad65-64cc2d8a2293",
   "metadata": {},
   "outputs": [],
   "source": []
  }
 ],
 "metadata": {
  "kernelspec": {
   "display_name": "Python 3 (ipykernel)",
   "language": "python",
   "name": "python3"
  },
  "language_info": {
   "codemirror_mode": {
    "name": "ipython",
    "version": 3
   },
   "file_extension": ".py",
   "mimetype": "text/x-python",
   "name": "python",
   "nbconvert_exporter": "python",
   "pygments_lexer": "ipython3",
   "version": "3.12.8"
  }
 },
 "nbformat": 4,
 "nbformat_minor": 5
}
