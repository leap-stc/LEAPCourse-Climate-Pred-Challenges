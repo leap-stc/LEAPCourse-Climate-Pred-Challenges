{
 "cells": [
  {
   "cell_type": "code",
   "execution_count": 1,
   "id": "e68ac4e3-3daf-4354-9090-da88c5dbb2ea",
   "metadata": {},
   "outputs": [],
   "source": [
    "# imports to look in \"leap-persistent\" google cloud storage\n",
    "import gcsfs\n",
    "fs = gcsfs.GCSFileSystem()"
   ]
  },
  {
   "cell_type": "markdown",
   "id": "7ab0bb08-5859-4193-b141-8b50fa48b9dd",
   "metadata": {},
   "source": [
    "# looking in a cloud storage directory"
   ]
  },
  {
   "cell_type": "markdown",
   "id": "f478a1c9-0502-4ff2-a67e-5f91b9114660",
   "metadata": {},
   "source": [
    "### To look at contents in a directory, use '.ls' and put your path in the parentheses. \n",
    "\n",
    "### The path will always start with \" gs://leap-persistent/ \"\n",
    "\n",
    "We insert your username and a path associated with the default runs"
   ]
  },
  {
   "cell_type": "code",
   "execution_count": 2,
   "id": "a4fdfba7-96c8-46ff-933f-e4b8d4b0f726",
   "metadata": {},
   "outputs": [
    {
     "data": {
      "text/plain": [
       "['leap-persistent/galenmckinley/pco2_residual/nmse/post02_xgb/reconstructions/CanESM5/member_r1i1p1f1',\n",
       " 'leap-persistent/galenmckinley/pco2_residual/nmse/post02_xgb/reconstructions/CanESM5/member_r1i1p2f1',\n",
       " 'leap-persistent/galenmckinley/pco2_residual/nmse/post02_xgb/reconstructions/CanESM5/member_r2i1p1f1']"
      ]
     },
     "execution_count": 2,
     "metadata": {},
     "output_type": "execute_result"
    }
   ],
   "source": [
    "your_username = 'galenmckinley' \n",
    "fs.ls(f'gs://leap-persistent/{your_username}/pco2_residual/nmse/post02_xgb/reconstructions/CanESM5')"
   ]
  },
  {
   "cell_type": "markdown",
   "id": "567d75bf-2bb0-47cd-9ab0-0a4ffc5b2c54",
   "metadata": {},
   "source": [
    "# getting file sizes"
   ]
  },
  {
   "cell_type": "markdown",
   "id": "74ec2c11-8608-42f7-8116-bd122a6f9aef",
   "metadata": {},
   "source": [
    "### if we want to get info for a file on the cloud storage:"
   ]
  },
  {
   "cell_type": "code",
   "execution_count": 4,
   "id": "c8658b46-dc59-4da4-9430-6b564d41e908",
   "metadata": {},
   "outputs": [
    {
     "data": {
      "text/plain": [
       "{'kind': 'storage#object',\n",
       " 'id': 'leap-persistent/galenmckinley/test_folder/test.csv/1743448790690071',\n",
       " 'selfLink': 'https://www.googleapis.com/storage/v1/b/leap-persistent/o/galenmckinley%2Ftest_folder%2Ftest.csv',\n",
       " 'mediaLink': 'https://storage.googleapis.com/download/storage/v1/b/leap-persistent/o/galenmckinley%2Ftest_folder%2Ftest.csv?generation=1743448790690071&alt=media',\n",
       " 'name': 'leap-persistent/galenmckinley/test_folder/test.csv',\n",
       " 'bucket': 'leap-persistent',\n",
       " 'generation': '1743448790690071',\n",
       " 'metageneration': '1',\n",
       " 'contentType': 'application/octet-stream',\n",
       " 'storageClass': 'STANDARD',\n",
       " 'size': 17,\n",
       " 'md5Hash': 'owQ8WisrmPuOUx3Yq+PjjA==',\n",
       " 'crc32c': 'JUM0Fg==',\n",
       " 'etag': 'CJfS6e6EtYwDEAE=',\n",
       " 'timeCreated': '2025-03-31T19:19:50.693Z',\n",
       " 'updated': '2025-03-31T19:19:50.693Z',\n",
       " 'timeStorageClassUpdated': '2025-03-31T19:19:50.693Z',\n",
       " 'timeFinalized': '2025-03-31T19:19:50.693Z',\n",
       " 'type': 'file',\n",
       " 'mtime': datetime.datetime(2025, 3, 31, 19, 19, 50, 693000, tzinfo=datetime.timezone.utc),\n",
       " 'ctime': datetime.datetime(2025, 3, 31, 19, 19, 50, 693000, tzinfo=datetime.timezone.utc)}"
      ]
     },
     "execution_count": 4,
     "metadata": {},
     "output_type": "execute_result"
    }
   ],
   "source": [
    "# a random csv!\n",
    "fs.info('gs://leap-persistent/galenmckinley/test_folder/test.csv')"
   ]
  },
  {
   "cell_type": "markdown",
   "id": "6bc5f13b-971a-42b0-ad7d-c91245194c6c",
   "metadata": {},
   "source": [
    "### if we want specifically the size, we use 'fs.du()' which stands for \"disk usage\":"
   ]
  },
  {
   "cell_type": "code",
   "execution_count": 5,
   "id": "ce0af044-8377-4859-9911-abb03bed45f5",
   "metadata": {},
   "outputs": [
    {
     "data": {
      "text/plain": [
       "17"
      ]
     },
     "execution_count": 5,
     "metadata": {},
     "output_type": "execute_result"
    }
   ],
   "source": [
    "fs.du('gs://leap-persistent/galenmckinley/test_folder/test.csv')"
   ]
  },
  {
   "cell_type": "markdown",
   "id": "01b891da-0bd3-4d38-a2a0-259abf65fea7",
   "metadata": {},
   "source": [
    "### just \"17\" is unclear though -> this function will make this clearer with units!"
   ]
  },
  {
   "cell_type": "code",
   "execution_count": 6,
   "id": "0273dd56-311d-4f3e-b616-474aafbe6df6",
   "metadata": {},
   "outputs": [],
   "source": [
    "def convert_to_human_readable(size):\n",
    "    \"\"\"\n",
    "    Converts disk usage size to 'human readable' format!\n",
    "    \"\"\"\n",
    "    \n",
    "    for unit in ['B', 'KB', 'MB', 'GB', 'TB']:\n",
    "        if size < 1024:\n",
    "            return f\"{size:.2f} {unit}\"\n",
    "        size /= 1024"
   ]
  },
  {
   "cell_type": "code",
   "execution_count": 7,
   "id": "3b1df154-4f9c-4956-804c-40bcebaa5278",
   "metadata": {},
   "outputs": [
    {
     "data": {
      "text/plain": [
       "'17.00 B'"
      ]
     },
     "execution_count": 7,
     "metadata": {},
     "output_type": "execute_result"
    }
   ],
   "source": [
    "convert_to_human_readable(17)"
   ]
  },
  {
   "cell_type": "markdown",
   "id": "d7354a87-9330-4fda-ae78-e33992ac1f23",
   "metadata": {},
   "source": [
    "### that csv is 17 bytes!"
   ]
  },
  {
   "cell_type": "markdown",
   "id": "b0161216-a9c0-4d33-b818-563a2f2f6411",
   "metadata": {},
   "source": [
    "### here's another example, but with a .zarr file:"
   ]
  },
  {
   "cell_type": "code",
   "execution_count": 8,
   "id": "3ba8bdf8-5929-4949-9671-c55f36ea8669",
   "metadata": {},
   "outputs": [
    {
     "data": {
      "text/plain": [
       "166750349"
      ]
     },
     "execution_count": 8,
     "metadata": {},
     "output_type": "execute_result"
    }
   ],
   "source": [
    "fs.du('gs://leap-persistent/galenmckinley/pco2_residual/nmse/post02_xgb/reconstructions/CanESM5/member_r1i1p1f1/recon_pCO2residual_CanESM5_member_r1i1p1f1_mon_1x1_200401_202312.zarr')"
   ]
  },
  {
   "cell_type": "code",
   "execution_count": 9,
   "id": "124f4bdb-6674-4d27-aa78-01e25fd8c1d8",
   "metadata": {},
   "outputs": [
    {
     "data": {
      "text/plain": [
       "'20.85 MB'"
      ]
     },
     "execution_count": 9,
     "metadata": {},
     "output_type": "execute_result"
    }
   ],
   "source": [
    "convert_to_human_readable(21858071)"
   ]
  },
  {
   "cell_type": "markdown",
   "id": "1de7002e-f79d-4e97-bae5-9e5d0bedab1b",
   "metadata": {},
   "source": [
    "that .zarr file is 20.85 megabytes"
   ]
  },
  {
   "cell_type": "markdown",
   "id": "4f274bda-2ea7-41b2-98fe-c6b30df59eed",
   "metadata": {},
   "source": [
    "# Deleting a file\n",
    "To remove a file, you will use 'fs.rm(path)'"
   ]
  },
  {
   "cell_type": "markdown",
   "id": "973216bf-83cf-4def-90ac-feb835ed9eb5",
   "metadata": {},
   "source": [
    "# ***Be very careful*** \n",
    "\n",
    "Make sure you are sure that you are removing what you want and that you are not deleting in someone else's directory."
   ]
  },
  {
   "cell_type": "code",
   "execution_count": 11,
   "id": "c03b54ab-c40a-453c-bfb0-8b7cb23d761a",
   "metadata": {},
   "outputs": [],
   "source": [
    "# do not actually run this code, please!\n",
    "\n",
    "# fs.rm('gs://leap-persistent/galenmckinley/test_folder/test.csv')"
   ]
  },
  {
   "cell_type": "markdown",
   "id": "ec98739c-cad5-45fa-af18-5e24fbc1063f",
   "metadata": {},
   "source": [
    "### Things are more complicated with .zarr files because .zarr files are considered \"directories\" by the file system\n",
    "### If deleting a .zarr file, you will just need to add the argument 'recursive=True' inside the parentheses"
   ]
  },
  {
   "cell_type": "code",
   "execution_count": 12,
   "id": "0d60ab76-74b9-4c57-ac12-a2871805bc86",
   "metadata": {},
   "outputs": [],
   "source": [
    "# fs.rm('gs://leap-persistent/....../filename.zarr', recursive=True)"
   ]
  },
  {
   "cell_type": "code",
   "execution_count": null,
   "id": "9a46d3cd-d093-4c4d-ad65-64cc2d8a2293",
   "metadata": {},
   "outputs": [],
   "source": []
  }
 ],
 "metadata": {
  "kernelspec": {
   "display_name": "Python 3 (ipykernel)",
   "language": "python",
   "name": "python3"
  },
  "language_info": {
   "codemirror_mode": {
    "name": "ipython",
    "version": 3
   },
   "file_extension": ".py",
   "mimetype": "text/x-python",
   "name": "python",
   "nbconvert_exporter": "python",
   "pygments_lexer": "ipython3",
   "version": "3.12.7"
  }
 },
 "nbformat": 4,
 "nbformat_minor": 5
}
