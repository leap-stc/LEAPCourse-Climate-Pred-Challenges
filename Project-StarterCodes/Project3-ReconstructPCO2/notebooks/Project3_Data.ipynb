{
 "cells": [
  {
   "cell_type": "markdown",
   "id": "a80f2b2c-3e4c-4ce3-a977-c822989b3e67",
   "metadata": {},
   "source": [
    "# **Data Acquisition and Preprocessing**\n",
    "\n",
    "## **Introduction**  \n",
    "This notebook is used to **extract** the ML dataset from **pre-processed Earth System Model (ESM) outputs**, perform preprocessing, and save the results to a user-specific path.\n"
   ]
  },
  {
   "cell_type": "markdown",
   "id": "80186cf7-27c4-4f0c-8c56-44c90c649b76",
   "metadata": {},
   "source": [
    "# 1. Setup workspace and Import packages"
   ]
  },
  {
   "cell_type": "code",
   "execution_count": 1,
   "id": "b37add44-d2ae-4e76-bc1a-effea1531dc2",
   "metadata": {
    "scrolled": true
   },
   "outputs": [],
   "source": [
    "%%capture\n",
    "!pip install tensorflow\n",
    "!pip install keras"
   ]
  },
  {
   "cell_type": "code",
   "execution_count": 3,
   "id": "d42d82f8-8400-459b-890c-f8ebfc9799e2",
   "metadata": {},
   "outputs": [],
   "source": [
    "%%capture\n",
    "### standard imports ###\n",
    "import pandas as pd\n",
    "import xarray as xr\n",
    "import gcsfs\n",
    "### Python file with supporting functions ###\n",
    "# standard imports\n",
    "import os\n",
    "os.environ['TF_CPP_MIN_LOG_LEVEL'] = '3'\n",
    "\n",
    "import datetime\n",
    "\n",
    "import json\n",
    "import random\n",
    "pd.set_option('display.max_colwidth',100)\n",
    "\n",
    "cwd=os.getcwd()\n",
    "parent_dir = os.path.dirname(cwd)\n",
    "os.chdir(parent_dir)\n",
    "cwd = parent_dir\n",
    "print(\"Current working directory:\", os.getcwd())\n",
    "\n",
    "# Python file with supporting functions\n",
    "import lib.residual_utils as supporting_functions"
   ]
  },
  {
   "cell_type": "code",
   "execution_count": 4,
   "id": "df9df76f-dfcb-4044-9a7e-c096f121e6ae",
   "metadata": {},
   "outputs": [],
   "source": [
    "### Setting the date range to unify the date type ###\n",
    "\n",
    "# Define date range\n",
    "date_range_start = '2004-01-01T00:00:00.000000000'\n",
    "date_range_end = '2023-12-31T00:00:00.000000000'\n",
    "\n",
    "# create date vector, adds 14 days to start & end\n",
    "dates = pd.date_range(start=date_range_start, \n",
    "                      end=date_range_end,freq='MS')\n",
    "\n",
    "\n",
    "init_date = str(dates[0].year) + format(dates[0].month,'02d')\n",
    "fin_date = str(dates[-1].year) + format(dates[-1].month,'02d')"
   ]
  },
  {
   "cell_type": "markdown",
   "id": "2c0f69c8-22f6-4d6c-9ab6-5748f9d4df36",
   "metadata": {},
   "source": [
    "# 2. Data Introduction and Storage"
   ]
  },
  {
   "cell_type": "markdown",
   "id": "22f765f8-6a87-4dcd-a89f-6829da257b1d",
   "metadata": {},
   "source": [
    "## **Data Sources and Paths**\n",
    "The data for the machine learning model are derived primarily from **pre-processed Earth System Model (ESM) outputs** with supplemental observational constraints where available. \n",
    "\n",
    "The data is stored in a **cloud-based environment**, ensuring efficient access and scalability for the machine learning workflow. Key datasets include:\n",
    "\n",
    "- **Ensemble dir**:\n",
    "  Contains the original data from pre-processed Earth System Model (ESM) outputs. \n",
    "\n",
    "- **Atmospheric xCO₂ Data**: Provides atmospheric CO₂ concentrations from **CMIP6 models**, essential for driving the long-term trends in oceanic pCO₂.\n",
    "\n",
    "- **SOCAT Data (Mask File)**:  Masking file based on **SOCAT pCO₂ observations**, used to sample model data in a way that reflects real-world observational density.\n",
    "\n",
    "- **Topography and Land-Sea Mask**:  \n",
    "  - **GEBCO Topography File**:    Global topographic dataset used to define coastal regions and provide physical constraints for model inputs.\n",
    "  - **Land-Sea Mask File**:  Binary land-sea mask used to restrict predictions to ocean regions only.\n"
   ]
  },
  {
   "cell_type": "markdown",
   "id": "8418faf5-54d5-415e-92a5-2ad875d79cf1",
   "metadata": {},
   "source": [
    "## Where is this happening? "
   ]
  },
  {
   "cell_type": "code",
   "execution_count": 5,
   "id": "a2a655f4-fa0a-4a42-ab1c-acbbb3d1de0c",
   "metadata": {},
   "outputs": [],
   "source": [
    "\n",
    "### set up for getting files from leap bucket ###\n",
    "fs = gcsfs.GCSFileSystem()\n",
    "\n",
    "### set paths ###\n",
    "\n",
    "### paths for loading: ###\n",
    "# directory of regridded members from notebook 00\n",
    "ensemble_dir = \"gs://leap-persistent/abbysh/pco2_all_members_1982-2023/00_regridded_members\" # path to regridded data\n",
    "\n",
    "# directory of reference zarr files\n",
    "zarr_dir = 'gs://leap-persistent/abbysh/zarr_files_'\n",
    "\n",
    "# atmospheric xco2 file\n",
    "xco2_path = f\"{zarr_dir}/xco2_cmip6_183501-224912_monthstart.zarr\"\n",
    "\n",
    "# socat data file\n",
    "socat_path = f\"{zarr_dir}/socat_mask_feb1982-dec2023.zarr\"\n",
    "\n",
    "# topo and land-sea masks\n",
    "topo_path = f\"{zarr_dir}/GEBCO_2014_1x1_global.zarr\"\n",
    "lsmask_path = f\"{zarr_dir}/lsmask.zarr\"\n",
    "\n",
    "############################################# change this to your username!\n",
    "\n",
    "your_username = 'Mukkke'\n",
    "\n",
    "# where machine learning inputs are saved\n",
    "MLinputs_path = f\"gs://leap-persistent/{your_username}/pco2_residual/post01_xgb_inputs\"\n",
    "\n"
   ]
  },
  {
   "cell_type": "markdown",
   "id": "ef1022e3-160e-49e7-8620-83add5264a18",
   "metadata": {},
   "source": [
    "# 3.  Select specific Earth System Models ( Ensemble Members) and members\n",
    "This notebook uses data from multiple Earth System Models (ESMs) included in the Large Ensemble Testbed (LET). The LET originally provides 100 ensemble members across various ESMs, each representing distinct initial conditions. These ensemble members are essential for capturing internal climate variability and evaluating model uncertainty.\n",
    "\n",
    "You can customize the mems_dict variable to include selected members from each ESM. This flexibility enables broader analysis while preserving the notebook’s overall structure."
   ]
  },
  {
   "cell_type": "code",
   "execution_count": 6,
   "id": "ec31f06e-b223-46a8-8964-2b55d03f0023",
   "metadata": {},
   "outputs": [],
   "source": [
    "mems_dict = dict()\n",
    "\n",
    "selected_ensembles = ['ACCESS-ESM1-5', 'CanESM5', 'MPI-ESM1-2-LR', 'UKESM1-0-LL']\n",
    "# ensemble_dir = 'leap-persistent/abbysh/pco2_all_members_1982-2023/00_regridded_members'\n",
    "\n",
    "# Get all paths\n",
    "all_paths = fs.ls(ensemble_dir)\n",
    "\n",
    "# Filter paths containing the selected ensemble names\n",
    "filtered_paths = [\n",
    "    path for path in all_paths\n",
    "    if path.split('/')[-1] in selected_ensembles\n",
    "]\n",
    "\n",
    "for ens_path in filtered_paths:             \n",
    "    ens = ens_path.split('/')[-1]\n",
    "    mems = fs.ls(ens_path)\n",
    "    for mem in mems:        \n",
    "        memo = mem.split('/')[-1]\n",
    "        if ens not in mems_dict:\n",
    "            mems_dict[ens] = [memo]\n",
    "        elif ens in mems_dict:\n",
    "            mems_dict[ens].append(memo)\n"
   ]
  },
  {
   "cell_type": "code",
   "execution_count": 7,
   "id": "b5e36a5e-a4b9-4bce-83df-8b825d653d52",
   "metadata": {},
   "outputs": [
    {
     "name": "stdout",
     "output_type": "stream",
     "text": [
      "{'ACCESS-ESM1-5': ['member_r5i1p1f1', 'member_r1i1p1f1', 'member_r10i1p1f1', 'member_r31i1p1f1', 'member_r2i1p1f1'], 'CanESM5': ['member_r3i1p2f1', 'member_r2i1p1f1', 'member_r1i1p2f1', 'member_r1i1p1f1', 'member_r6i1p2f1'], 'MPI-ESM1-2-LR': ['member_r12i1p1f1', 'member_r11i1p1f1', 'member_r15i1p1f1', 'member_r22i1p1f1', 'member_r23i1p1f1'], 'UKESM1-0-LL': ['member_r8i1p1f2', 'member_r1i1p1f2', 'member_r3i1p1f2', 'member_r4i1p1f2', 'member_r2i1p1f2']}\n"
     ]
    }
   ],
   "source": [
    "random.seed(42)  # Set seed for reproducibility\n",
    "\n",
    "selected_mems_dict = {}\n",
    "\n",
    "num_members = 5  # Set the number of ensemble members from each ESM\n",
    "\n",
    "for ens, members in mems_dict.items():\n",
    "    if len(members) >= num_members:\n",
    "        selected_mems_dict[ens] = random.sample(members, num_members)  # Select `num_members` random members\n",
    "    else:\n",
    "        selected_mems_dict[ens] = members  # If there are fewer members than `num_members`, select all\n",
    "\n",
    "print(selected_mems_dict)"
   ]
  },
  {
   "cell_type": "code",
   "execution_count": 23,
   "id": "883bd38a-5fc4-4f49-859f-16b2fe704e61",
   "metadata": {},
   "outputs": [
    {
     "name": "stdout",
     "output_type": "stream",
     "text": [
      "Deleted: leap-persistent/Mukkke/pco2_residual\n"
     ]
    }
   ],
   "source": [
    "# import gcsfs\n",
    "\n",
    "# fs = gcsfs.GCSFileSystem()\n",
    "\n",
    "# MLinputs_path = \"gs://leap-persistent/Mukkke/pco2_residua/\"\n",
    "\n",
    "# files_to_delete = fs.ls(MLinputs_path, detail=False)\n",
    "\n",
    "# for file_path in files_to_delete:\n",
    "#     fs.rm(file_path, recursive=True)\n",
    "#     print(f\"Deleted: {file_path}\")\n"
   ]
  },
  {
   "cell_type": "markdown",
   "id": "30fd8e65-eaa6-4e43-8f7b-de7db6144dc8",
   "metadata": {},
   "source": [
    "## Processing and Saving ESM Data for ML\n",
    "\n",
    "In this step, we extract the required ML data from ESM datasets stored in **Google Cloud Storage (GCS)**. The extracted data is structured into Pandas DataFrames and saved under our **own username-specific workspace** in GCS. This ensures that we have direct access to preprocessed data for ML experiments. This means that even if you exit and re-enter JupyterHub, your data will remain available, eliminating the need for reprocessing.\n",
    "\n",
    "### **Important Note: Run This Only Once**\n",
    "\n",
    "The **data extraction and processing** step needs to be run **only once** per project, unless new data is required. This helps save computational resources and execution time.\n",
    "\n",
    "For each **ensemble member**, the estimated runtime is:\n",
    "- **1.32 minutes** for data retrieval and processing.\n",
    "- **Total estimated time**: **1.32 × (total number of selected members)** min.\n",
    "\n",
    "With a **128GB CPU**, actual runtimes may vary based on system load and selected members, but this serves as a general guideline.\n",
    "\n",
    "### Before Running Again:\n",
    "Before executing the data processing or ML training steps again, **check whether you actually need new data**. If not, avoid redundant computations to optimize resource usage. You can also check the storage under the path constantly to clear redundant usage.\n"
   ]
  },
  {
   "cell_type": "code",
   "execution_count": 9,
   "id": "f49d8c96-db7d-453f-8fa8-4513a1ea9384",
   "metadata": {
    "scrolled": true
   },
   "outputs": [
    {
     "name": "stdout",
     "output_type": "stream",
     "text": [
      "making dataframe 0: ('ACCESS-ESM1-5', 'member_r5i1p1f1')\n",
      "Starting data saving process\n",
      "member_r5i1p1f1 save complete\n",
      "making dataframe 1: ('ACCESS-ESM1-5', 'member_r1i1p1f1')\n",
      "Starting data saving process\n",
      "member_r1i1p1f1 save complete\n",
      "making dataframe 2: ('ACCESS-ESM1-5', 'member_r10i1p1f1')\n",
      "Starting data saving process\n",
      "member_r10i1p1f1 save complete\n",
      "making dataframe 3: ('ACCESS-ESM1-5', 'member_r31i1p1f1')\n",
      "Starting data saving process\n",
      "member_r31i1p1f1 save complete\n",
      "making dataframe 4: ('ACCESS-ESM1-5', 'member_r2i1p1f1')\n",
      "Starting data saving process\n",
      "member_r2i1p1f1 save complete\n",
      "making dataframe 5: ('CanESM5', 'member_r3i1p2f1')\n",
      "Starting data saving process\n",
      "member_r3i1p2f1 save complete\n",
      "making dataframe 6: ('CanESM5', 'member_r2i1p1f1')\n",
      "Starting data saving process\n",
      "member_r2i1p1f1 save complete\n",
      "making dataframe 7: ('CanESM5', 'member_r1i1p2f1')\n",
      "Starting data saving process\n",
      "member_r1i1p2f1 save complete\n",
      "making dataframe 8: ('CanESM5', 'member_r1i1p1f1')\n",
      "Starting data saving process\n",
      "member_r1i1p1f1 save complete\n",
      "making dataframe 9: ('CanESM5', 'member_r6i1p2f1')\n",
      "Starting data saving process\n",
      "member_r6i1p2f1 save complete\n",
      "making dataframe 10: ('MPI-ESM1-2-LR', 'member_r12i1p1f1')\n",
      "Starting data saving process\n",
      "member_r12i1p1f1 save complete\n",
      "making dataframe 11: ('MPI-ESM1-2-LR', 'member_r11i1p1f1')\n",
      "Starting data saving process\n",
      "member_r11i1p1f1 save complete\n",
      "making dataframe 12: ('MPI-ESM1-2-LR', 'member_r15i1p1f1')\n",
      "Starting data saving process\n",
      "member_r15i1p1f1 save complete\n",
      "making dataframe 13: ('MPI-ESM1-2-LR', 'member_r22i1p1f1')\n",
      "Starting data saving process\n",
      "member_r22i1p1f1 save complete\n",
      "making dataframe 14: ('MPI-ESM1-2-LR', 'member_r23i1p1f1')\n",
      "Starting data saving process\n",
      "member_r23i1p1f1 save complete\n",
      "making dataframe 15: ('UKESM1-0-LL', 'member_r8i1p1f2')\n",
      "Starting data saving process\n",
      "member_r8i1p1f2 save complete\n",
      "making dataframe 16: ('UKESM1-0-LL', 'member_r1i1p1f2')\n",
      "Starting data saving process\n",
      "member_r1i1p1f2 save complete\n",
      "making dataframe 17: ('UKESM1-0-LL', 'member_r3i1p1f2')\n",
      "Starting data saving process\n",
      "member_r3i1p1f2 save complete\n",
      "making dataframe 18: ('UKESM1-0-LL', 'member_r4i1p1f2')\n",
      "Starting data saving process\n",
      "member_r4i1p1f2 save complete\n",
      "making dataframe 19: ('UKESM1-0-LL', 'member_r2i1p1f2')\n",
      "Starting data saving process\n",
      "member_r2i1p1f2 save complete\n"
     ]
    }
   ],
   "source": [
    "### creating pandas dataframes out of \"raw\" data to prep for ML ###\n",
    "N_time = len(dates)\n",
    "member_counter = 0 \n",
    "\n",
    "### loop through each ESM\n",
    "for ens, mem_list in selected_mems_dict.items(): \n",
    "\n",
    "    ### loop through each member of that ESM\n",
    "    for member in mem_list:\n",
    "        \n",
    "        print(f'making dataframe {member_counter}: {ens,member}')\n",
    "\n",
    "        ### uses utility function file to make data into dataframe for ML use\n",
    "        df = supporting_functions.create_inputs(ensemble_dir, ens, member, dates, N_time,\n",
    "                                  xco2_path,\n",
    "                                  socat_path,\n",
    "                                  topo_path,\n",
    "                                  lsmask_path)\n",
    "\n",
    "        ### Save the pandas dataframe to workspace\n",
    "        supporting_functions.save_clean_data(df, MLinputs_path, ens, member, dates)\n",
    "        member_counter += 1"
   ]
  },
  {
   "cell_type": "code",
   "execution_count": 10,
   "id": "635a2018-f332-4470-8cd7-b3871e94de21",
   "metadata": {},
   "outputs": [
    {
     "name": "stdout",
     "output_type": "stream",
     "text": [
      "ACCESS-ESM1-5 member_r5i1p1f1\n",
      "leap-persistent/Mukkke/pco2_residual/post01_xgb_inputs/ACCESS-ESM1-5/member_r5i1p1f1/MLinput_ACCESS-ESM1-5_r5i1p1f1_mon_1x1_200401_202312.pkl\n",
      "ACCESS-ESM1-5 member_r1i1p1f1\n",
      "leap-persistent/Mukkke/pco2_residual/post01_xgb_inputs/ACCESS-ESM1-5/member_r1i1p1f1/MLinput_ACCESS-ESM1-5_r1i1p1f1_mon_1x1_200401_202312.pkl\n",
      "ACCESS-ESM1-5 member_r10i1p1f1\n",
      "leap-persistent/Mukkke/pco2_residual/post01_xgb_inputs/ACCESS-ESM1-5/member_r10i1p1f1/MLinput_ACCESS-ESM1-5_r10i1p1f1_mon_1x1_200401_202312.pkl\n",
      "ACCESS-ESM1-5 member_r31i1p1f1\n",
      "leap-persistent/Mukkke/pco2_residual/post01_xgb_inputs/ACCESS-ESM1-5/member_r31i1p1f1/MLinput_ACCESS-ESM1-5_r31i1p1f1_mon_1x1_200401_202312.pkl\n",
      "ACCESS-ESM1-5 member_r2i1p1f1\n",
      "leap-persistent/Mukkke/pco2_residual/post01_xgb_inputs/ACCESS-ESM1-5/member_r2i1p1f1/MLinput_ACCESS-ESM1-5_r2i1p1f1_mon_1x1_200401_202312.pkl\n",
      "CanESM5 member_r3i1p2f1\n",
      "leap-persistent/Mukkke/pco2_residual/post01_xgb_inputs/CanESM5/member_r3i1p2f1/MLinput_CanESM5_r3i1p2f1_mon_1x1_200401_202312.pkl\n",
      "CanESM5 member_r2i1p1f1\n",
      "leap-persistent/Mukkke/pco2_residual/post01_xgb_inputs/CanESM5/member_r2i1p1f1/MLinput_CanESM5_r2i1p1f1_mon_1x1_200401_202312.pkl\n",
      "CanESM5 member_r1i1p2f1\n",
      "leap-persistent/Mukkke/pco2_residual/post01_xgb_inputs/CanESM5/member_r1i1p2f1/MLinput_CanESM5_r1i1p2f1_mon_1x1_200401_202312.pkl\n",
      "CanESM5 member_r1i1p1f1\n",
      "leap-persistent/Mukkke/pco2_residual/post01_xgb_inputs/CanESM5/member_r1i1p1f1/MLinput_CanESM5_r1i1p1f1_mon_1x1_200401_202312.pkl\n",
      "CanESM5 member_r6i1p2f1\n",
      "leap-persistent/Mukkke/pco2_residual/post01_xgb_inputs/CanESM5/member_r6i1p2f1/MLinput_CanESM5_r6i1p2f1_mon_1x1_200401_202312.pkl\n",
      "MPI-ESM1-2-LR member_r12i1p1f1\n",
      "leap-persistent/Mukkke/pco2_residual/post01_xgb_inputs/MPI-ESM1-2-LR/member_r12i1p1f1/MLinput_MPI-ESM1-2-LR_r12i1p1f1_mon_1x1_200401_202312.pkl\n",
      "MPI-ESM1-2-LR member_r11i1p1f1\n",
      "leap-persistent/Mukkke/pco2_residual/post01_xgb_inputs/MPI-ESM1-2-LR/member_r11i1p1f1/MLinput_MPI-ESM1-2-LR_r11i1p1f1_mon_1x1_200401_202312.pkl\n",
      "MPI-ESM1-2-LR member_r15i1p1f1\n",
      "leap-persistent/Mukkke/pco2_residual/post01_xgb_inputs/MPI-ESM1-2-LR/member_r15i1p1f1/MLinput_MPI-ESM1-2-LR_r15i1p1f1_mon_1x1_200401_202312.pkl\n",
      "MPI-ESM1-2-LR member_r22i1p1f1\n",
      "leap-persistent/Mukkke/pco2_residual/post01_xgb_inputs/MPI-ESM1-2-LR/member_r22i1p1f1/MLinput_MPI-ESM1-2-LR_r22i1p1f1_mon_1x1_200401_202312.pkl\n",
      "MPI-ESM1-2-LR member_r23i1p1f1\n",
      "leap-persistent/Mukkke/pco2_residual/post01_xgb_inputs/MPI-ESM1-2-LR/member_r23i1p1f1/MLinput_MPI-ESM1-2-LR_r23i1p1f1_mon_1x1_200401_202312.pkl\n",
      "UKESM1-0-LL member_r8i1p1f2\n",
      "leap-persistent/Mukkke/pco2_residual/post01_xgb_inputs/UKESM1-0-LL/member_r8i1p1f2/MLinput_UKESM1-0-LL_r8i1p1f2_mon_1x1_200401_202312.pkl\n",
      "UKESM1-0-LL member_r1i1p1f2\n",
      "leap-persistent/Mukkke/pco2_residual/post01_xgb_inputs/UKESM1-0-LL/member_r1i1p1f2/MLinput_UKESM1-0-LL_r1i1p1f2_mon_1x1_200401_202312.pkl\n",
      "UKESM1-0-LL member_r3i1p1f2\n",
      "leap-persistent/Mukkke/pco2_residual/post01_xgb_inputs/UKESM1-0-LL/member_r3i1p1f2/MLinput_UKESM1-0-LL_r3i1p1f2_mon_1x1_200401_202312.pkl\n",
      "UKESM1-0-LL member_r4i1p1f2\n",
      "leap-persistent/Mukkke/pco2_residual/post01_xgb_inputs/UKESM1-0-LL/member_r4i1p1f2/MLinput_UKESM1-0-LL_r4i1p1f2_mon_1x1_200401_202312.pkl\n",
      "UKESM1-0-LL member_r2i1p1f2\n",
      "leap-persistent/Mukkke/pco2_residual/post01_xgb_inputs/UKESM1-0-LL/member_r2i1p1f2/MLinput_UKESM1-0-LL_r2i1p1f2_mon_1x1_200401_202312.pkl\n"
     ]
    }
   ],
   "source": [
    "for ens, mem_list in selected_mems_dict.items():\n",
    "    for member in mem_list:\n",
    "        print(ens, member)\n",
    "        data_dir = f\"{MLinputs_path}/{ens}/{member}\"\n",
    "        files = fs.ls(data_dir)\n",
    "        for file in files:\n",
    "            print(file)"
   ]
  }
 ],
 "metadata": {
  "kernelspec": {
   "display_name": "Python 3 (ipykernel)",
   "language": "python",
   "name": "python3"
  },
  "language_info": {
   "codemirror_mode": {
    "name": "ipython",
    "version": 3
   },
   "file_extension": ".py",
   "mimetype": "text/x-python",
   "name": "python",
   "nbconvert_exporter": "python",
   "pygments_lexer": "ipython3",
   "version": "3.12.7"
  }
 },
 "nbformat": 4,
 "nbformat_minor": 5
}
